{
 "cells": [
  {
   "cell_type": "code",
   "execution_count": 2,
   "outputs": [
    {
     "name": "stdout",
     "output_type": "stream",
     "text": [
      "62\n"
     ]
    }
   ],
   "source": [
    "import pandas as pd\n",
    "\n",
    "from xlsConfig import xlsConfig\n",
    "\n",
    "# 全局变量\n",
    "xlsPath = \"./data/\" + xlsConfig.getDefaultXlsName()\n",
    "if xlsConfig.getIsHaveTopBar():\n",
    "    header = 0\n",
    "else:\n",
    "    header = None\n",
    "useColumns = [\"课程代码\", \"课程名称\", \"课程性质\", \"学分\", \"成绩\", \"绩点\", \"成绩性质\", \"成绩备注\", \"是否成绩作废\", \"课程类别\", \"考核方式\"]\n",
    "\n",
    "data = pd.read_excel(xlsPath, sheet_name=\"sheet1\", header=header, usecols=useColumns, keep_default_na=False)\n",
    "# print(data.dtypes)\n",
    "arrays = data.to_numpy()\n",
    "# print(arrays)\n",
    "line = arrays.shape[0]\n",
    "columns = arrays.shape[1]\n",
    "# print(line)  # 行数    62\n",
    "# print(columns)  # 字段数  11\n",
    "\n",
    "classID = []\n",
    "isScoreFailed = []\n",
    "\n",
    "for i in range(line):\n",
    "    classID.append(arrays[i][0])\n",
    "    isScoreFailed.append(arrays[i][8])\n",
    "# print(classID)\n",
    "# print(isScoreFailed)\n",
    "print(line)\n"
   ],
   "metadata": {
    "collapsed": false,
    "ExecuteTime": {
     "start_time": "2023-03-11T15:49:47.547141Z",
     "end_time": "2023-03-11T15:49:47.581452Z"
    }
   }
  }
 ],
 "metadata": {
  "kernelspec": {
   "display_name": "Python 3 (ipykernel)",
   "language": "python",
   "name": "python3"
  },
  "language_info": {
   "codemirror_mode": {
    "name": "ipython",
    "version": 3
   },
   "file_extension": ".py",
   "mimetype": "text/x-python",
   "name": "python",
   "nbconvert_exporter": "python",
   "pygments_lexer": "ipython3",
   "version": "3.9.0"
  }
 },
 "nbformat": 4,
 "nbformat_minor": 1
}
